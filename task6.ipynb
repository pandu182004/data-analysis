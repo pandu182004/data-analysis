{
 "cells": [
  {
   "cell_type": "code",
   "execution_count": 2,
   "id": "3a363d15",
   "metadata": {},
   "outputs": [],
   "source": [
    "import pandas as pd \n",
    "import numpy as np\n",
    "import matplotlib.pyplot as plt\n",
    "import seaborn as sns\n",
    "df=pd.read_csv(r\"C:\\Users\\kanuk\\OneDrive\\Desktop\\cognify\\Dataset .csv\")\n"
   ]
  },
  {
   "cell_type": "markdown",
   "id": "8b08b2a5",
   "metadata": {},
   "source": [
    "2.1 Identify the most common combinations of\n",
    "cuisines in the dataset."
   ]
  },
  {
   "cell_type": "code",
   "execution_count": 4,
   "id": "3e6c9d20",
   "metadata": {},
   "outputs": [
    {
     "name": "stdout",
     "output_type": "stream",
     "text": [
      "the most common combo are: Cuisines\n",
      "Italian, Deli              4.9\n",
      "Hawaiian, Seafood          4.9\n",
      "American, Sandwich, Tea    4.9\n",
      "Continental, Indian        4.9\n",
      "European, Asian, Indian    4.9\n",
      "Name: Aggregate rating, dtype: float64\n"
     ]
    }
   ],
   "source": [
    "common_combo=df.groupby('Cuisines')['Aggregate rating'].mean().sort_values(ascending=False)\n",
    "top5=common_combo.head(5)\n",
    "print(\"the most common combo are:\",top5)"
   ]
  },
  {
   "cell_type": "markdown",
   "id": "cdc32930",
   "metadata": {},
   "source": [
    "2.2 Determine if certain cuisine combinations tend to have higher ratings."
   ]
  },
  {
   "cell_type": "code",
   "execution_count": null,
   "id": "e514e7e1",
   "metadata": {},
   "outputs": [
    {
     "name": "stdout",
     "output_type": "stream",
     "text": [
      "4.9\n",
      "      Restaurant ID                           Restaurant Name  Country Code  \\\n",
      "3           6318506                                      Ooma           162   \n",
      "8           6300010  Spiral - Sofitel Philippine Plaza Manila           162   \n",
      "10          6309903                          Silantro Fil-Mex           162   \n",
      "39          6600427                                Coco Bambu            30   \n",
      "48          7300955                        Braseiro da G��vea            30   \n",
      "...             ...                                       ...           ...   \n",
      "9484          75989            Restaurant Mosaic @ The Orient           189   \n",
      "9514        5800176                          Ministry of Crab           191   \n",
      "9524        6004011                              Gaga Manjero           208   \n",
      "9538        5901782                                 Starbucks           208   \n",
      "9540        5927248                          Draft Gastro Pub           208   \n",
      "\n",
      "                  City                                            Address  \\\n",
      "3     Mandaluyong City  Third Floor, Mega Fashion Hall, SM Megamall, O...   \n",
      "8           Pasay City  Plaza Level, Sofitel Philippine Plaza Manila, ...   \n",
      "10          Pasig City       75 East Capitol Drive, Kapitolyo, Pasig City   \n",
      "39           Bras�_lia  SCES, Trecho 2, Conjunto 13/36, Setor de Clube...   \n",
      "48      Rio de Janeiro  Pra�_a Santos Dumont, 116, G��vea, Rio de Janeiro   \n",
      "...                ...                                                ...   \n",
      "9484          Pretoria  The Orient Boutique Hotel, Crocodile River Val...   \n",
      "9514           Colombo       Old Colombo Dutch Hospital, Fort, Colombo 01   \n",
      "9524            Ankara  Gazi Osman Pa��a Mahallesi, Filistin Caddesi, ...   \n",
      "9538         ��stanbul  Bebek Mahallesi, Cevdetpa��a Caddesi, No 30/A,...   \n",
      "9540         ��stanbul  Caddebostan Mahallesi, Ba��dat Caddesi, No 349...   \n",
      "\n",
      "                                         Locality  \\\n",
      "3          SM Megamall, Ortigas, Mandaluyong City   \n",
      "8     Sofitel Philippine Plaza Manila, Pasay City   \n",
      "10                                      Kapitolyo   \n",
      "39                 Setor De Clubes Esportivos Sul   \n",
      "48                                         G��vea   \n",
      "...                                           ...   \n",
      "9484                                    West Park   \n",
      "9514                     Old Dutch Hospital, Fort   \n",
      "9524                             Gazi Osman Pa��a   \n",
      "9538                                        Bebek   \n",
      "9540                                  Caddebostan   \n",
      "\n",
      "                                       Locality Verbose   Longitude  \\\n",
      "3     SM Megamall, Ortigas, Mandaluyong City, Mandal...  121.056475   \n",
      "8     Sofitel Philippine Plaza Manila, Pasay City, P...  120.980090   \n",
      "10                                Kapitolyo, Pasig City  121.057916   \n",
      "39            Setor De Clubes Esportivos Sul, Bras�_lia  -47.868500   \n",
      "48                               G��vea, Rio de Janeiro  -43.227042   \n",
      "...                                                 ...         ...   \n",
      "9484                                West Park, Pretoria   27.999097   \n",
      "9514                  Old Dutch Hospital, Fort, Colombo   79.844239   \n",
      "9524                           Gazi Osman Pa��a, Ankara   32.869800   \n",
      "9538                                   Bebek, ��stanbul   29.043734   \n",
      "9540                             Caddebostan, ��stanbul   29.074116   \n",
      "\n",
      "       Latitude                 Cuisines  ...               Currency  \\\n",
      "3     14.585318          Japanese, Sushi  ...       Botswana Pula(P)   \n",
      "8     14.552990  European, Asian, Indian  ...       Botswana Pula(P)   \n",
      "10    14.567689        Filipino, Mexican  ...       Botswana Pula(P)   \n",
      "39   -15.819000            International  ...     Brazilian Real(R$)   \n",
      "48   -22.973507      Brazilian, Bar Food  ...     Brazilian Real(R$)   \n",
      "...         ...                      ...  ...                    ...   \n",
      "9484 -25.761238                   French  ...                Rand(R)   \n",
      "9514   6.932814                  Seafood  ...  Sri Lankan Rupee(LKR)   \n",
      "9524  39.898239            World Cuisine  ...       Turkish Lira(TL)   \n",
      "9538  41.077696                     Cafe  ...       Turkish Lira(TL)   \n",
      "9540  40.963935                 Bar Food  ...       Turkish Lira(TL)   \n",
      "\n",
      "     Has Table booking Has Online delivery Is delivering now  \\\n",
      "3                   No                  No                No   \n",
      "8                  Yes                  No                No   \n",
      "10                  No                  No                No   \n",
      "39                  No                  No                No   \n",
      "48                  No                  No                No   \n",
      "...                ...                 ...               ...   \n",
      "9484                No                  No                No   \n",
      "9514                No                  No                No   \n",
      "9524                No                  No                No   \n",
      "9538                No                  No                No   \n",
      "9540                No                  No                No   \n",
      "\n",
      "     Switch to order menu Price range  Aggregate rating  Rating color  \\\n",
      "3                      No           4               4.9    Dark Green   \n",
      "8                      No           4               4.9    Dark Green   \n",
      "10                     No           3               4.9    Dark Green   \n",
      "39                     No           4               4.9    Dark Green   \n",
      "48                     No           4               4.9    Dark Green   \n",
      "...                   ...         ...               ...           ...   \n",
      "9484                   No           4               4.9    Dark Green   \n",
      "9514                   No           4               4.9    Dark Green   \n",
      "9524                   No           3               4.9    Dark Green   \n",
      "9538                   No           2               4.9    Dark Green   \n",
      "9540                   No           4               4.9    Dark Green   \n",
      "\n",
      "     Rating text Votes  \n",
      "3      Excellent   365  \n",
      "8      Excellent   621  \n",
      "10     Excellent  1070  \n",
      "39     Excellent    30  \n",
      "48     Excellent    40  \n",
      "...          ...   ...  \n",
      "9484   Excellent    85  \n",
      "9514   Excellent   203  \n",
      "9524   Excellent    95  \n",
      "9538   Excellent  1042  \n",
      "9540   Excellent   522  \n",
      "\n",
      "[61 rows x 21 columns]\n"
     ]
    }
   ],
   "source": [
    "max_rating=common_combo.iloc[0]\n",
    "print(max_rating)\n",
    "max_rate_rest=df.loc[df['Aggregate rating']== max_rating]\n",
    "print(max_rate_rest)"
   ]
  }
 ],
 "metadata": {
  "kernelspec": {
   "display_name": "base",
   "language": "python",
   "name": "python3"
  },
  "language_info": {
   "codemirror_mode": {
    "name": "ipython",
    "version": 3
   },
   "file_extension": ".py",
   "mimetype": "text/x-python",
   "name": "python",
   "nbconvert_exporter": "python",
   "pygments_lexer": "ipython3",
   "version": "3.12.4"
  }
 },
 "nbformat": 4,
 "nbformat_minor": 5
}
